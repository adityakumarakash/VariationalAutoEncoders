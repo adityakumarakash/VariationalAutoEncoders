{
 "cells": [
  {
   "cell_type": "code",
   "execution_count": 108,
   "metadata": {},
   "outputs": [],
   "source": [
    "# Imports\n",
    "import os\n",
    "import torch\n",
    "from torch import nn, optim\n",
    "import torch.nn.functional as F\n",
    "import torchvision\n",
    "import torchvision.transforms as transforms\n",
    "from torchvision.utils import save_image\n",
    "\n",
    "import numpy as np\n",
    "import matplotlib.pyplot as plt"
   ]
  },
  {
   "cell_type": "code",
   "execution_count": 109,
   "metadata": {},
   "outputs": [
    {
     "name": "stdout",
     "output_type": "stream",
     "text": [
      "cuda\n"
     ]
    }
   ],
   "source": [
    "torch.manual_seed(143)\n",
    "device = torch.device(\"cuda\" if torch.cuda.is_available() else \"cpu\")\n",
    "print(device)"
   ]
  },
  {
   "cell_type": "code",
   "execution_count": 110,
   "metadata": {},
   "outputs": [
    {
     "name": "stderr",
     "output_type": "stream",
     "text": [
      "  0%|          | 0/9912422 [00:00<?, ?it/s]"
     ]
    },
    {
     "name": "stdout",
     "output_type": "stream",
     "text": [
      "Downloading http://yann.lecun.com/exdb/mnist/train-images-idx3-ubyte.gz to ./data/MNIST/raw/train-images-idx3-ubyte.gz\n"
     ]
    },
    {
     "name": "stderr",
     "output_type": "stream",
     "text": [
      "9920512it [00:01, 5449903.57it/s]                             \n"
     ]
    },
    {
     "name": "stdout",
     "output_type": "stream",
     "text": [
      "Extracting ./data/MNIST/raw/train-images-idx3-ubyte.gz\n"
     ]
    },
    {
     "name": "stderr",
     "output_type": "stream",
     "text": [
      "32768it [00:00, 259161.33it/s]                           \n",
      "0it [00:00, ?it/s]"
     ]
    },
    {
     "name": "stdout",
     "output_type": "stream",
     "text": [
      "Downloading http://yann.lecun.com/exdb/mnist/train-labels-idx1-ubyte.gz to ./data/MNIST/raw/train-labels-idx1-ubyte.gz\n",
      "Extracting ./data/MNIST/raw/train-labels-idx1-ubyte.gz\n",
      "Downloading http://yann.lecun.com/exdb/mnist/t10k-images-idx3-ubyte.gz to ./data/MNIST/raw/t10k-images-idx3-ubyte.gz\n"
     ]
    },
    {
     "name": "stderr",
     "output_type": "stream",
     "text": [
      "1654784it [00:00, 3086172.94it/s]                            \n",
      "8192it [00:00, 106689.04it/s]\n"
     ]
    },
    {
     "name": "stdout",
     "output_type": "stream",
     "text": [
      "Extracting ./data/MNIST/raw/t10k-images-idx3-ubyte.gz\n",
      "Downloading http://yann.lecun.com/exdb/mnist/t10k-labels-idx1-ubyte.gz to ./data/MNIST/raw/t10k-labels-idx1-ubyte.gz\n",
      "Extracting ./data/MNIST/raw/t10k-labels-idx1-ubyte.gz\n",
      "Processing...\n",
      "Done!\n"
     ]
    }
   ],
   "source": [
    "# Get Dataset\n",
    "transform = transforms.Compose([transforms.ToTensor()])\n",
    "trainset = torchvision.datasets.MNIST('./data', train=True, transform=transform, download=True)\n",
    "testset = torchvision.datasets.MNIST('./data', train=False, transform=transform, download=True)"
   ]
  },
  {
   "cell_type": "code",
   "execution_count": 111,
   "metadata": {},
   "outputs": [
    {
     "name": "stdout",
     "output_type": "stream",
     "text": [
      "torch.Size([1, 28, 28])\n"
     ]
    },
    {
     "data": {
      "image/png": "[encoded data removed]",
      "text/plain": [
       "<Figure size 432x288 with 1 Axes>"
      ]
     },
     "metadata": {
      "needs_background": "light"
     },
     "output_type": "display_data"
    },
    {
     "name": "stdout",
     "output_type": "stream",
     "text": [
      "5\n"
     ]
    }
   ],
   "source": [
    "# Inspect one image from the dataset\n",
    "img, label = trainset.__getitem__(0)\n",
    "print(img.size())\n",
    "\n",
    "def imshow(img):\n",
    "    # Expects an img in tensor -1 to 1 range\n",
    "    #img = (img + 1)/2.0\n",
    "    npimg = img.squeeze().numpy()\n",
    "    plt.imshow(npimg)\n",
    "    plt.show()\n",
    "\n",
    "imshow(img)\n",
    "print(label)"
   ]
  },
  {
   "cell_type": "code",
   "execution_count": 112,
   "metadata": {},
   "outputs": [],
   "source": [
    "# Create a data loader for dataset\n",
    "batch_size = 128\n",
    "train_loader = torch.utils.data.DataLoader(trainset, batch_size=batch_size,\n",
    "                                           shuffle=False, num_workers=2)\n",
    "test_loader = torch.utils.data.DataLoader(testset, batch_size=batch_size,\n",
    "                                           shuffle=False, num_workers=2)"
   ]
  },
  {
   "cell_type": "code",
   "execution_count": 113,
   "metadata": {},
   "outputs": [],
   "source": [
    "# Create the encoder\n",
    "latent_dim = 2\n",
    "hidden_dim = 400\n",
    "\n",
    "class Encoder(nn.Module):\n",
    "    def __init__(self):\n",
    "        super(Encoder, self).__init__()\n",
    "        self.fc1 = nn.Linear(784, hidden_dim)\n",
    "        self.fc21 = nn.Linear(hidden_dim, latent_dim)\n",
    "        self.fc22 = nn.Linear(hidden_dim, latent_dim)\n",
    "        \n",
    "    def forward(self, x):\n",
    "        x = F.relu(self.fc1(x.view(-1, 784)))\n",
    "        mu = self.fc21(x)\n",
    "        logvar = self.fc22(x)\n",
    "        return mu, logvar\n",
    "\n",
    "# Creates the decoder class\n",
    "class Decoder(nn.Module):\n",
    "    def __init__(self):\n",
    "        super(Decoder, self).__init__()\n",
    "        self.fc1 = nn.Linear(latent_dim, hidden_dim)\n",
    "        self.fc2 = nn.Linear(hidden_dim, 784)\n",
    "    \n",
    "    def forward(self, x):\n",
    "        x = F.relu(self.fc1(x))\n",
    "        x = self.fc2(x)\n",
    "        return torch.sigmoid(x)\n",
    "\n",
    "# Creates the VAE class\n",
    "class VAE(nn.Module):\n",
    "    def __init__(self):\n",
    "        super(VAE, self).__init__()\n",
    "        self.encoder = Encoder()\n",
    "        self.decoder = Decoder()\n",
    "        \n",
    "    def reparam(self, mu, logvar):\n",
    "        sigma = torch.exp(0.5*logvar)\n",
    "        eps = torch.randn_like(sigma)\n",
    "        return mu + eps*sigma\n",
    "    \n",
    "    def forward(self, x):\n",
    "        mu, logvar = self.encoder(x)\n",
    "        z = self.reparam(mu, logvar)\n",
    "        x = self.decoder(z)\n",
    "        return x, mu, logvar"
   ]
  },
  {
   "cell_type": "code",
   "execution_count": 114,
   "metadata": {},
   "outputs": [],
   "source": [
    "# Define the loss function involved\n",
    "def loss_func(x, recon_x, mu, logvar):\n",
    "    #recon_loss = F.binary_cross_entropy(recon_x, x.view(-1, 784), reduction='sum')\n",
    "    recon_loss = F.mse_loss(recon_x, x.view(-1, 784), reduction='sum')\n",
    "    KL_loss = -0.5 * torch.sum(1 + logvar - mu.pow(2) - logvar.exp())\n",
    "    return recon_loss + KL_loss"
   ]
  },
  {
   "cell_type": "code",
   "execution_count": 115,
   "metadata": {},
   "outputs": [],
   "source": [
    "# Define the training process\n",
    "def train(epoch, model, optimizer, train_loader):\n",
    "    model.train()\n",
    "    train_loss = 0\n",
    "    for batch_idx, (data, _) in enumerate(train_loader):\n",
    "        data = data.to(device)\n",
    "        optimizer.zero_grad()\n",
    "        recon, mu, logvar = model(data)\n",
    "        loss = loss_func(data, recon, mu, logvar)\n",
    "        loss.backward()\n",
    "        train_loss += loss\n",
    "        optimizer.step()\n",
    "        if batch_idx % 200 == 0:\n",
    "            print('Train_epoch: {}\\t[{}/{}]\\tLoss: {:.6f}'.format(\n",
    "                epoch, batch_idx*len(data), len(train_loader.dataset), \n",
    "                loss.item()/len(data)))\n",
    "    print('Epoch: {} Avg train loss = {:.6f}'.format(\n",
    "        epoch, train_loss/len(train_loader.dataset)))"
   ]
  },
  {
   "cell_type": "code",
   "execution_count": null,
   "metadata": {},
   "outputs": [],
   "source": [
    "# Define the test process\n",
    "def test(epoch, model, test_loader):\n",
    "    model.eval()\n",
    "    test_loss = 0\n",
    "    for data, _ in test_loader:\n",
    "        data = data.to(device)\n",
    "        recon, mu, logvar = model(data)\n",
    "        loss = loss_func(data, recon, mu, logvar)\n",
    "        test_loss += loss\n",
    "    test_loss /= len(test_loader.dataset)\n",
    "    print('Epoch: {} Avg test loss: {:.6f}'.format(epoch, test_loss))"
   ]
  },
  {
   "cell_type": "code",
   "execution_count": null,
   "metadata": {
    "scrolled": true
   },
   "outputs": [
    {
     "name": "stdout",
     "output_type": "stream",
     "text": [
      "Train_epoch: 1\t[0/60000]\tLoss: 184.444321\n",
      "Train_epoch: 1\t[25600/60000]\tLoss: 48.524063\n",
      "Train_epoch: 1\t[51200/60000]\tLoss: 47.369255\n",
      "Epoch: 1 Avg train loss = 50.131027\n",
      "Epoch: 1 Avg test loss: 44.327679\n",
      "Train_epoch: 2\t[0/60000]\tLoss: 41.602646\n",
      "Train_epoch: 2\t[25600/60000]\tLoss: 44.463203\n",
      "Train_epoch: 2\t[51200/60000]\tLoss: 44.423939\n",
      "Epoch: 2 Avg train loss = 43.211666\n",
      "Epoch: 2 Avg test loss: 42.671375\n",
      "Train_epoch: 3\t[0/60000]\tLoss: 40.014095\n",
      "Train_epoch: 3\t[25600/60000]\tLoss: 43.573746\n",
      "Train_epoch: 3\t[51200/60000]\tLoss: 43.580910\n",
      "Epoch: 3 Avg train loss = 42.196541\n",
      "Epoch: 3 Avg test loss: 41.923019\n",
      "Train_epoch: 4\t[0/60000]\tLoss: 38.840454\n",
      "Train_epoch: 4\t[25600/60000]\tLoss: 42.447224\n",
      "Train_epoch: 4\t[51200/60000]\tLoss: 42.963448\n",
      "Epoch: 4 Avg train loss = 41.638470\n",
      "Epoch: 4 Avg test loss: 41.465099\n",
      "Train_epoch: 5\t[0/60000]\tLoss: 38.280609\n",
      "Train_epoch: 5\t[25600/60000]\tLoss: 41.961849\n",
      "Train_epoch: 5\t[51200/60000]\tLoss: 42.397339\n",
      "Epoch: 5 Avg train loss = 41.205856\n",
      "Epoch: 5 Avg test loss: 41.212566\n",
      "Train_epoch: 6\t[0/60000]\tLoss: 38.279354\n",
      "Train_epoch: 6\t[25600/60000]\tLoss: 41.400139\n",
      "Train_epoch: 6\t[51200/60000]\tLoss: 42.075630\n",
      "Epoch: 6 Avg train loss = 40.876865\n",
      "Epoch: 6 Avg test loss: 40.894508\n",
      "Train_epoch: 7\t[0/60000]\tLoss: 37.416359\n",
      "Train_epoch: 7\t[25600/60000]\tLoss: 41.056652\n",
      "Train_epoch: 7\t[51200/60000]\tLoss: 41.418095\n",
      "Epoch: 7 Avg train loss = 40.570591\n",
      "Epoch: 7 Avg test loss: 40.549648\n",
      "Train_epoch: 8\t[0/60000]\tLoss: 36.872772\n",
      "Train_epoch: 8\t[25600/60000]\tLoss: 40.755276\n",
      "Train_epoch: 8\t[51200/60000]\tLoss: 41.247864\n",
      "Epoch: 8 Avg train loss = 40.316360\n",
      "Epoch: 8 Avg test loss: 40.357861\n",
      "Train_epoch: 9\t[0/60000]\tLoss: 37.470856\n",
      "Train_epoch: 9\t[25600/60000]\tLoss: 40.728951\n",
      "Train_epoch: 9\t[51200/60000]\tLoss: 40.655632\n",
      "Epoch: 9 Avg train loss = 40.092781\n",
      "Epoch: 9 Avg test loss: 40.216866\n",
      "Train_epoch: 10\t[0/60000]\tLoss: 36.615589\n",
      "Train_epoch: 10\t[25600/60000]\tLoss: 40.259338\n",
      "Train_epoch: 10\t[51200/60000]\tLoss: 40.578571\n",
      "Epoch: 10 Avg train loss = 39.877247\n",
      "Epoch: 10 Avg test loss: 39.973949\n",
      "Train_epoch: 11\t[0/60000]\tLoss: 36.225800\n",
      "Train_epoch: 11\t[25600/60000]\tLoss: 39.858196\n",
      "Train_epoch: 11\t[51200/60000]\tLoss: 40.428974\n",
      "Epoch: 11 Avg train loss = 39.694809\n",
      "Epoch: 11 Avg test loss: 39.758144\n",
      "Train_epoch: 12\t[0/60000]\tLoss: 36.295235\n",
      "Train_epoch: 12\t[25600/60000]\tLoss: 39.755829\n",
      "Train_epoch: 12\t[51200/60000]\tLoss: 39.850403\n",
      "Epoch: 12 Avg train loss = 39.531181\n",
      "Epoch: 12 Avg test loss: 39.775169\n",
      "Train_epoch: 13\t[0/60000]\tLoss: 35.954514\n",
      "Train_epoch: 13\t[25600/60000]\tLoss: 39.946590\n",
      "Train_epoch: 13\t[51200/60000]\tLoss: 40.564449\n",
      "Epoch: 13 Avg train loss = 39.409866\n",
      "Epoch: 13 Avg test loss: 39.596165\n",
      "Train_epoch: 14\t[0/60000]\tLoss: 36.000816\n",
      "Train_epoch: 14\t[25600/60000]\tLoss: 39.523624\n",
      "Train_epoch: 14\t[51200/60000]\tLoss: 39.772102\n",
      "Epoch: 14 Avg train loss = 39.269135\n",
      "Epoch: 14 Avg test loss: 39.564503\n",
      "Train_epoch: 15\t[0/60000]\tLoss: 35.602264\n",
      "Train_epoch: 15\t[25600/60000]\tLoss: 39.566879\n",
      "Train_epoch: 15\t[51200/60000]\tLoss: 39.436909\n",
      "Epoch: 15 Avg train loss = 39.155849\n",
      "Epoch: 15 Avg test loss: 39.663460\n",
      "Train_epoch: 16\t[0/60000]\tLoss: 36.091621\n",
      "Train_epoch: 16\t[25600/60000]\tLoss: 39.248581\n",
      "Train_epoch: 16\t[51200/60000]\tLoss: 39.404213\n",
      "Epoch: 16 Avg train loss = 39.071789\n",
      "Epoch: 16 Avg test loss: 39.480160\n",
      "Train_epoch: 17\t[0/60000]\tLoss: 35.646366\n",
      "Train_epoch: 17\t[25600/60000]\tLoss: 39.079243\n",
      "Train_epoch: 17\t[51200/60000]\tLoss: 39.686039\n",
      "Epoch: 17 Avg train loss = 38.932289\n",
      "Epoch: 17 Avg test loss: 39.370770\n",
      "Train_epoch: 18\t[0/60000]\tLoss: 35.764835\n"
     ]
    }
   ],
   "source": [
    "model = VAE().to(device)\n",
    "model = nn.DataParallel(model, device_ids=range(torch.cuda.device_count()))\n",
    "optimizer = optim.Adam(model.parameters(), lr=1e-3)\n",
    "\n",
    "results_dir = 'results'\n",
    "if not os.path.exists(results_dir):\n",
    "    os.mkdir(results_dir)\n",
    "else:\n",
    "    print('Directory', results_dir, 'already exists')\n",
    "\n",
    "for epoch in range(1, 20):\n",
    "    train(epoch, model, optimizer, train_loader)\n",
    "    test(epoch, model, test_loader)\n",
    "    with torch.no_grad():\n",
    "        sample = torch.randn(64, latent_dim).to(device)\n",
    "        sample = model.module.decoder(sample).cpu()\n",
    "        sample_filename = os.path.join(results_dir, 'sample_' + str(epoch) + '.png')\n",
    "        save_image(sample.view(64, 1, 28, 28), sample_filename)"
   ]
  },
  {
   "cell_type": "code",
   "execution_count": null,
   "metadata": {},
   "outputs": [],
   "source": [
    "# Create an array of images for hidden dim = 2\n",
    "with torch.no_grad():\n",
    "    n = 32\n",
    "    sample = torch.linspace(-1.0, 1.0, steps=n)\n",
    "    x, y = torch.meshgrid(sample, sample)\n",
    "    x = x.unsqueeze(2)\n",
    "    y = y.unsqueeze(2)\n",
    "    sample = torch.cat((x, y), 2)\n",
    "    sample = sample.view(-1, 2).to(device)\n",
    "    sample = model.module.decoder(sample).cpu()\n",
    "    sample_filename = os.path.join(results_dir, 'final' + '.png')\n",
    "    save_image(sample.view(n*n, 1, 28, 28), sample_filename, nrow=n)"
   ]
  }
 ],
 "metadata": {
  "kernelspec": {
   "display_name": "Python 3",
   "language": "python",
   "name": "python3"
  },
  "language_info": {
   "codemirror_mode": {
    "name": "ipython",
    "version": 3
   },
   "file_extension": ".py",
   "mimetype": "text/x-python",
   "name": "python",
   "nbconvert_exporter": "python",
   "pygments_lexer": "ipython3",
   "version": "3.7.2"
  }
 },
 "nbformat": 4,
 "nbformat_minor": 2
}
